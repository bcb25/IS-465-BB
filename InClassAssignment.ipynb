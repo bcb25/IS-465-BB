{
  "nbformat": 4,
  "nbformat_minor": 0,
  "metadata": {
    "colab": {
      "name": "InClassAssignment.ipynb",
      "provenance": [],
      "collapsed_sections": [],
      "include_colab_link": true
    },
    "kernelspec": {
      "name": "python3",
      "display_name": "Python 3"
    }
  },
  "cells": [
    {
      "cell_type": "markdown",
      "metadata": {
        "id": "view-in-github",
        "colab_type": "text"
      },
      "source": [
        "<a href=\"https://colab.research.google.com/github/bcb25/IS-465-BB/blob/master/InClassAssignment.ipynb\" target=\"_parent\"><img src=\"https://colab.research.google.com/assets/colab-badge.svg\" alt=\"Open In Colab\"/></a>"
      ]
    },
    {
      "cell_type": "code",
      "metadata": {
        "colab_type": "code",
        "outputId": "abd4551d-5d35-4867-f3e6-b73bfe0832de",
        "id": "i3tivOxkvFGz",
        "colab": {
          "base_uri": "https://localhost:8080/",
          "height": 139
        }
      },
      "source": [
        "# Author: William Gleason <wg92@njit.edu>\n",
        "#         Ben Berman <bcb25@njit.edu>\n",
        "#         Iveth Contreras <ic77@njit.edu>\n",
        "# Class: IS 465-002\n",
        "\n",
        "import nltk \n",
        "import string\n",
        "nltk.download('wordnet')\n",
        "from nltk.corpus import wordnet\n",
        "synonyms = [] \n",
        "antonyms = [] \n",
        "sample_set=['day','danish','dare','death','night','name','life','liberty','justice','journey','flight','fruit']\n",
        "#Checking Synonyms and Antonyms from nltk wordnet against input word\n",
        "def Thesaurus(x):  \n",
        "  for syn in wordnet.synsets(x): \n",
        "      for l in syn.lemmas(): \n",
        "          synonyms.append(l.name()) \n",
        "          if l.antonyms(): \n",
        "              antonyms.append(l.antonyms()[0].name())\n",
        "  print(\"Synonyms: \" + str(synonyms)) \n",
        "  print(\"Antonyms: \" + str(antonyms))\n",
        "#Checking a word against a word list for the first two letters of the word, prints each word that matches\n",
        "def isSimilar(x):\n",
        "  first= x[0]+x[1]\n",
        "  Check = [idx for idx in sample_set if idx[0].lower()+idx[1].lower()== first.lower()] \n",
        "  print(\"Words starting with \"+first+\": \" + str(Check))\n",
        "#Has user input a word and passes it to the methods\n",
        "x = input('Please Enter a Word: ') \n",
        "Thesaurus(x)\n",
        "isSimilar(x)\n"
      ],
      "execution_count": 0,
      "outputs": [
        {
          "output_type": "stream",
          "text": [
            "[nltk_data] Downloading package wordnet to /root/nltk_data...\n",
            "[nltk_data]   Package wordnet is already up-to-date!\n",
            "Please Enter a Word: day\n",
            "Synonyms: ['day', 'twenty-four_hours', 'twenty-four_hour_period', '24-hour_interval', 'solar_day', 'mean_solar_day', 'day', 'day', 'day', 'daytime', 'daylight', 'day', 'day', 'day', 'sidereal_day', 'day', 'day', 'Day', 'Clarence_Day', 'Clarence_Shepard_Day_Jr.']\n",
            "Antonyms: ['night']\n",
            "Words starting with da: ['day', 'danish', 'dare']\n"
          ],
          "name": "stdout"
        }
      ]
    }
  ]
}